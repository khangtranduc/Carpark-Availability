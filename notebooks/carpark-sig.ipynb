{
 "cells": [
  {
   "cell_type": "code",
   "execution_count": 1,
   "source": [
    "import numpy as np\r\n",
    "import pandas as pd\r\n",
    "import matplotlib.pyplot as plt\r\n",
    "%matplotlib inline"
   ],
   "outputs": [],
   "metadata": {}
  },
  {
   "cell_type": "code",
   "execution_count": 2,
   "source": [
    "root = '../../resources'"
   ],
   "outputs": [],
   "metadata": {}
  },
  {
   "cell_type": "code",
   "execution_count": 3,
   "source": [
    "cd = pd.read_csv(f'{root}/2020/2020-01-01.csv')\r\n",
    "cd.sort_values(['number', 'time'], inplace=True)\r\n",
    "cd = cd.assign(usage=lambda x: (x.total-x.available)/x.total)\r\n",
    "cd.dropna(axis=0, how='any', inplace=True)\r\n",
    "cd.drop(['total', 'available'], axis= 1, inplace=True)\r\n",
    "cd.head(3)"
   ],
   "outputs": [
    {
     "output_type": "execute_result",
     "data": {
      "text/html": [
       "<div>\n",
       "<style scoped>\n",
       "    .dataframe tbody tr th:only-of-type {\n",
       "        vertical-align: middle;\n",
       "    }\n",
       "\n",
       "    .dataframe tbody tr th {\n",
       "        vertical-align: top;\n",
       "    }\n",
       "\n",
       "    .dataframe thead th {\n",
       "        text-align: right;\n",
       "    }\n",
       "</style>\n",
       "<table border=\"1\" class=\"dataframe\">\n",
       "  <thead>\n",
       "    <tr style=\"text-align: right;\">\n",
       "      <th></th>\n",
       "      <th>number</th>\n",
       "      <th>time</th>\n",
       "      <th>usage</th>\n",
       "    </tr>\n",
       "  </thead>\n",
       "  <tbody>\n",
       "    <tr>\n",
       "      <th>587791</th>\n",
       "      <td>A10</td>\n",
       "      <td>2020-01-01 00:01:00</td>\n",
       "      <td>0.612903</td>\n",
       "    </tr>\n",
       "    <tr>\n",
       "      <th>585745</th>\n",
       "      <td>A10</td>\n",
       "      <td>2020-01-01 00:06:00</td>\n",
       "      <td>0.580645</td>\n",
       "    </tr>\n",
       "    <tr>\n",
       "      <th>583700</th>\n",
       "      <td>A10</td>\n",
       "      <td>2020-01-01 00:11:00</td>\n",
       "      <td>0.580645</td>\n",
       "    </tr>\n",
       "  </tbody>\n",
       "</table>\n",
       "</div>"
      ],
      "text/plain": [
       "       number                 time     usage\n",
       "587791    A10  2020-01-01 00:01:00  0.612903\n",
       "585745    A10  2020-01-01 00:06:00  0.580645\n",
       "583700    A10  2020-01-01 00:11:00  0.580645"
      ]
     },
     "metadata": {},
     "execution_count": 3
    }
   ],
   "metadata": {}
  },
  {
   "cell_type": "code",
   "execution_count": 4,
   "source": [
    "yhs = cd[cd.number=='YHS']\r\n",
    "yhs.info()"
   ],
   "outputs": [
    {
     "output_type": "stream",
     "name": "stdout",
     "text": [
      "<class 'pandas.core.frame.DataFrame'>\n",
      "Int64Index: 288 entries, 587513 to 971\n",
      "Data columns (total 3 columns):\n",
      " #   Column  Non-Null Count  Dtype  \n",
      "---  ------  --------------  -----  \n",
      " 0   number  288 non-null    object \n",
      " 1   time    288 non-null    object \n",
      " 2   usage   288 non-null    float64\n",
      "dtypes: float64(1), object(2)\n",
      "memory usage: 9.0+ KB\n"
     ]
    }
   ],
   "metadata": {}
  },
  {
   "cell_type": "code",
   "execution_count": 5,
   "source": [
    "plt.plot(yhs.usage, yhs.time)"
   ],
   "outputs": [
    {
     "output_type": "execute_result",
     "data": {
      "text/plain": [
       "[<matplotlib.lines.Line2D at 0x1b90e379b20>]"
      ]
     },
     "metadata": {},
     "execution_count": 5
    },
    {
     "output_type": "display_data",
     "data": {
      "image/png": "[encoded data removed]",
      "text/plain": [
       "<Figure size 432x288 with 1 Axes>"
      ]
     },
     "metadata": {
      "needs_background": "light"
     }
    }
   ],
   "metadata": {}
  }
 ],
 "metadata": {
  "orig_nbformat": 4,
  "language_info": {
   "name": "python",
   "version": "3.8.11",
   "mimetype": "text/x-python",
   "codemirror_mode": {
    "name": "ipython",
    "version": 3
   },
   "pygments_lexer": "ipython3",
   "nbconvert_exporter": "python",
   "file_extension": ".py"
  },
  "kernelspec": {
   "name": "python3",
   "display_name": "Python 3.8.11 64-bit ('virtualenv': conda)"
  },
  "interpreter": {
   "hash": "6a770c756bf6cd846983e30214af7232e69d9ec9145ab5f35d9e514839c0511b"
  }
 },
 "nbformat": 4,
 "nbformat_minor": 2
}