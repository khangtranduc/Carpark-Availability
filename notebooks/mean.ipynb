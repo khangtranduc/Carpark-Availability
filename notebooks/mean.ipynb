{
 "cells": [
  {
   "cell_type": "code",
   "execution_count": 3,
   "source": [
    "import numpy as np\r\n",
    "import pandas as pd\r\n",
    "from datetime import datetime, timedelta"
   ],
   "outputs": [],
   "metadata": {}
  },
  {
   "cell_type": "code",
   "execution_count": 4,
   "source": [
    "root = '../../resources'"
   ],
   "outputs": [],
   "metadata": {}
  },
  {
   "cell_type": "code",
   "execution_count": 5,
   "source": [
    "jeff = pd.read_csv(f'{root}/2020/2020-02-02.csv')\r\n",
    "jeff.head(5)"
   ],
   "outputs": [
    {
     "output_type": "execute_result",
     "data": {
      "text/html": [
       "<div>\n",
       "<style scoped>\n",
       "    .dataframe tbody tr th:only-of-type {\n",
       "        vertical-align: middle;\n",
       "    }\n",
       "\n",
       "    .dataframe tbody tr th {\n",
       "        vertical-align: top;\n",
       "    }\n",
       "\n",
       "    .dataframe thead th {\n",
       "        text-align: right;\n",
       "    }\n",
       "</style>\n",
       "<table border=\"1\" class=\"dataframe\">\n",
       "  <thead>\n",
       "    <tr style=\"text-align: right;\">\n",
       "      <th></th>\n",
       "      <th>number</th>\n",
       "      <th>time</th>\n",
       "      <th>total</th>\n",
       "      <th>available</th>\n",
       "    </tr>\n",
       "  </thead>\n",
       "  <tbody>\n",
       "    <tr>\n",
       "      <th>0</th>\n",
       "      <td>HE12</td>\n",
       "      <td>2020-02-02 23:56:00</td>\n",
       "      <td>91</td>\n",
       "      <td>57</td>\n",
       "    </tr>\n",
       "    <tr>\n",
       "      <th>1</th>\n",
       "      <td>HLM</td>\n",
       "      <td>2020-02-02 23:56:00</td>\n",
       "      <td>583</td>\n",
       "      <td>483</td>\n",
       "    </tr>\n",
       "    <tr>\n",
       "      <th>2</th>\n",
       "      <td>RHM</td>\n",
       "      <td>2020-02-02 23:56:00</td>\n",
       "      <td>322</td>\n",
       "      <td>175</td>\n",
       "    </tr>\n",
       "    <tr>\n",
       "      <th>3</th>\n",
       "      <td>BM29</td>\n",
       "      <td>2020-02-02 23:56:00</td>\n",
       "      <td>97</td>\n",
       "      <td>93</td>\n",
       "    </tr>\n",
       "    <tr>\n",
       "      <th>4</th>\n",
       "      <td>Q81</td>\n",
       "      <td>2020-02-02 23:56:00</td>\n",
       "      <td>96</td>\n",
       "      <td>73</td>\n",
       "    </tr>\n",
       "  </tbody>\n",
       "</table>\n",
       "</div>"
      ],
      "text/plain": [
       "  number                 time  total  available\n",
       "0   HE12  2020-02-02 23:56:00     91         57\n",
       "1    HLM  2020-02-02 23:56:00    583        483\n",
       "2    RHM  2020-02-02 23:56:00    322        175\n",
       "3   BM29  2020-02-02 23:56:00     97         93\n",
       "4    Q81  2020-02-02 23:56:00     96         73"
      ]
     },
     "metadata": {},
     "execution_count": 5
    }
   ],
   "metadata": {}
  },
  {
   "cell_type": "code",
   "execution_count": 11,
   "source": [
    "jeff.assign\r\n",
    "cp = jeff.groupby('time').mean()\r\n",
    "cp"
   ],
   "outputs": [
    {
     "output_type": "execute_result",
     "data": {
      "text/html": [
       "<div>\n",
       "<style scoped>\n",
       "    .dataframe tbody tr th:only-of-type {\n",
       "        vertical-align: middle;\n",
       "    }\n",
       "\n",
       "    .dataframe tbody tr th {\n",
       "        vertical-align: top;\n",
       "    }\n",
       "\n",
       "    .dataframe thead th {\n",
       "        text-align: right;\n",
       "    }\n",
       "</style>\n",
       "<table border=\"1\" class=\"dataframe\">\n",
       "  <thead>\n",
       "    <tr style=\"text-align: right;\">\n",
       "      <th></th>\n",
       "      <th>total</th>\n",
       "      <th>available</th>\n",
       "    </tr>\n",
       "    <tr>\n",
       "      <th>time</th>\n",
       "      <th></th>\n",
       "      <th></th>\n",
       "    </tr>\n",
       "  </thead>\n",
       "  <tbody>\n",
       "    <tr>\n",
       "      <th>2020-02-02 00:01:00</th>\n",
       "      <td>350.518121</td>\n",
       "      <td>164.158389</td>\n",
       "    </tr>\n",
       "    <tr>\n",
       "      <th>2020-02-02 00:06:00</th>\n",
       "      <td>350.518121</td>\n",
       "      <td>164.158389</td>\n",
       "    </tr>\n",
       "    <tr>\n",
       "      <th>2020-02-02 00:11:00</th>\n",
       "      <td>350.518121</td>\n",
       "      <td>164.158389</td>\n",
       "    </tr>\n",
       "    <tr>\n",
       "      <th>2020-02-02 00:16:00</th>\n",
       "      <td>350.518121</td>\n",
       "      <td>164.158389</td>\n",
       "    </tr>\n",
       "    <tr>\n",
       "      <th>2020-02-02 00:21:00</th>\n",
       "      <td>350.518121</td>\n",
       "      <td>164.106040</td>\n",
       "    </tr>\n",
       "    <tr>\n",
       "      <th>...</th>\n",
       "      <td>...</td>\n",
       "      <td>...</td>\n",
       "    </tr>\n",
       "    <tr>\n",
       "      <th>2020-02-02 23:36:00</th>\n",
       "      <td>350.518121</td>\n",
       "      <td>157.655034</td>\n",
       "    </tr>\n",
       "    <tr>\n",
       "      <th>2020-02-02 23:41:00</th>\n",
       "      <td>350.516779</td>\n",
       "      <td>157.267114</td>\n",
       "    </tr>\n",
       "    <tr>\n",
       "      <th>2020-02-02 23:46:00</th>\n",
       "      <td>350.518121</td>\n",
       "      <td>156.924832</td>\n",
       "    </tr>\n",
       "    <tr>\n",
       "      <th>2020-02-02 23:51:00</th>\n",
       "      <td>350.516779</td>\n",
       "      <td>156.436242</td>\n",
       "    </tr>\n",
       "    <tr>\n",
       "      <th>2020-02-02 23:56:00</th>\n",
       "      <td>350.516779</td>\n",
       "      <td>156.114094</td>\n",
       "    </tr>\n",
       "  </tbody>\n",
       "</table>\n",
       "<p>288 rows × 2 columns</p>\n",
       "</div>"
      ],
      "text/plain": [
       "                          total   available\n",
       "time                                       \n",
       "2020-02-02 00:01:00  350.518121  164.158389\n",
       "2020-02-02 00:06:00  350.518121  164.158389\n",
       "2020-02-02 00:11:00  350.518121  164.158389\n",
       "2020-02-02 00:16:00  350.518121  164.158389\n",
       "2020-02-02 00:21:00  350.518121  164.106040\n",
       "...                         ...         ...\n",
       "2020-02-02 23:36:00  350.518121  157.655034\n",
       "2020-02-02 23:41:00  350.516779  157.267114\n",
       "2020-02-02 23:46:00  350.518121  156.924832\n",
       "2020-02-02 23:51:00  350.516779  156.436242\n",
       "2020-02-02 23:56:00  350.516779  156.114094\n",
       "\n",
       "[288 rows x 2 columns]"
      ]
     },
     "metadata": {},
     "execution_count": 11
    }
   ],
   "metadata": {}
  },
  {
   "cell_type": "code",
   "execution_count": null,
   "source": [
    "def mean_year(year):\r\n",
    "    td = timedelta(days=1)\r\n",
    "    dt = datetime.strptime(f'{year}-01-01', '%Y-%m-%d')\r\n",
    "    dend = datetime.strptime(f'{year}-12-31', '%Y-%m-%d')\r\n",
    "    while dt <= dend:\r\n",
    "        name = f'{dt.strftime('%Y-%m-%d')}.csv'\r\n",
    "        jeff = pd.read_csv(f'{root}/{year}/{name}')\r\n",
    "        dt += td\r\n",
    "\r\n",
    "mean_year('2020')"
   ],
   "outputs": [],
   "metadata": {}
  },
  {
   "cell_type": "code",
   "execution_count": null,
   "source": [],
   "outputs": [],
   "metadata": {}
  }
 ],
 "metadata": {
  "orig_nbformat": 4,
  "language_info": {
   "name": "python",
   "version": "3.8.11",
   "mimetype": "text/x-python",
   "codemirror_mode": {
    "name": "ipython",
    "version": 3
   },
   "pygments_lexer": "ipython3",
   "nbconvert_exporter": "python",
   "file_extension": ".py"
  },
  "kernelspec": {
   "name": "python3",
   "display_name": "Python 3.8.11 64-bit"
  },
  "interpreter": {
   "hash": "6a770c756bf6cd846983e30214af7232e69d9ec9145ab5f35d9e514839c0511b"
  }
 },
 "nbformat": 4,
 "nbformat_minor": 2
}