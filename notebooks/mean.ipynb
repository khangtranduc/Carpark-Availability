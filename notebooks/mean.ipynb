{
 "cells": [
  {
   "cell_type": "code",
   "execution_count": 1,
   "source": [
    "import numpy as np\r\n",
    "import pandas as pd\r\n",
    "from datetime import datetime, timedelta"
   ],
   "outputs": [],
   "metadata": {}
  },
  {
   "cell_type": "code",
   "execution_count": 2,
   "source": [
    "root = '../../resources'"
   ],
   "outputs": [],
   "metadata": {}
  },
  {
   "cell_type": "code",
   "execution_count": 91,
   "source": [
    "def clean_cd(data):\r\n",
    "  data.sort_values(['number', 'time'], inplace=True)\r\n",
    "#   data = data.assign(usage=lambda x: (x.total-x.available)/x.total)\r\n",
    "  nd = pd.DataFrame(data.number.value_counts())\r\n",
    "  nd = nd[nd.number<=288]\r\n",
    "  data = data[data.number.isin(nd.index)]\r\n",
    "  data.time = pd.to_datetime(data.time)\r\n",
    "  data.time = data.time.dt.hour\r\n",
    "  data = data.groupby(['number', 'time']).mean()\r\n",
    "  return data.reset_index().assign(n=1)"
   ],
   "outputs": [],
   "metadata": {}
  },
  {
   "cell_type": "code",
   "execution_count": null,
   "source": [
    "jeff = pd.read_csv(f'{root}/2020/2020-12-31.csv')\r\n",
    "jeff = clean_cd(jeff)\r\n",
    "jeff"
   ],
   "outputs": [],
   "metadata": {}
  },
  {
   "cell_type": "code",
   "execution_count": 128,
   "source": [
    "def mean_year(year):\r\n",
    "    td = timedelta(days=1)\r\n",
    "    dt = datetime.strptime(f'{year}-01-01', '%Y-%m-%d')\r\n",
    "    dend = datetime.strptime(f'{year}-12-31', '%Y-%m-%d')\r\n",
    "    frick = pd.DataFrame()\r\n",
    "    while dt <= dend:\r\n",
    "        bruh = dt.strftime('%Y-%m-%d')\r\n",
    "        name = f'{bruh}.csv'\r\n",
    "        jeff = pd.read_csv(f'{root}/{year}/{name}')\r\n",
    "        if frick.empty:\r\n",
    "            frick = clean_cd(jeff)\r\n",
    "        else:\r\n",
    "            jeff = clean_cd(jeff)\r\n",
    "            frick = frick.append(jeff).groupby(['number', 'time']).sum().reset_index()\r\n",
    "            # frick.total += jeff.total\r\n",
    "            # frick.available += jeff.available\r\n",
    "        dt += td\r\n",
    "    frick.total /= frick.n\r\n",
    "    frick.available /= frick.n\r\n",
    "    frick.to_csv(f'{root}/meanyear/{year}.csv', index=False)"
   ],
   "outputs": [],
   "metadata": {}
  },
  {
   "cell_type": "code",
   "execution_count": 129,
   "source": [
    "for i in ['2020', '2019', '2018']:\r\n",
    "    mean_year(i)"
   ],
   "outputs": [],
   "metadata": {}
  },
  {
   "cell_type": "code",
   "execution_count": 131,
   "source": [
    "jeff = pd.read_csv(f'{root}/meanyear/2020.csv')\r\n",
    "jeff.value_counts()"
   ],
   "outputs": [
    {
     "output_type": "execute_result",
     "data": {
      "text/plain": [
       "number  time  total       available   n  \n",
       "A10     0     63.525140   17.407123   358    1\n",
       "SI8     19    118.000000  79.506446   362    1\n",
       "SI6     3     40.340782   9.599860    358    1\n",
       "        4     40.340782   9.533287    358    1\n",
       "        5     40.337047   9.032962    359    1\n",
       "                                            ..\n",
       "HG50    17    469.265193  242.158149  362    1\n",
       "        18    468.812845  223.257366  362    1\n",
       "        19    468.179558  197.417818  362    1\n",
       "        20    468.179558  175.313306  362    1\n",
       "YHS     23    60.507202   21.052533   251    1\n",
       "Length: 45264, dtype: int64"
      ]
     },
     "metadata": {},
     "execution_count": 131
    }
   ],
   "metadata": {}
  }
 ],
 "metadata": {
  "orig_nbformat": 4,
  "language_info": {
   "name": "python",
   "version": "3.8.11",
   "mimetype": "text/x-python",
   "codemirror_mode": {
    "name": "ipython",
    "version": 3
   },
   "pygments_lexer": "ipython3",
   "nbconvert_exporter": "python",
   "file_extension": ".py"
  },
  "kernelspec": {
   "name": "python3",
   "display_name": "Python 3.8.11 64-bit ('virtualenv': conda)"
  },
  "interpreter": {
   "hash": "6a770c756bf6cd846983e30214af7232e69d9ec9145ab5f35d9e514839c0511b"
  }
 },
 "nbformat": 4,
 "nbformat_minor": 2
}