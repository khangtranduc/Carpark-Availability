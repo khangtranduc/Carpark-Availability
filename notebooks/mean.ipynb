{
 "cells": [
  {
   "cell_type": "code",
   "execution_count": 1,
   "source": [
    "import numpy as np\r\n",
    "import pandas as pd\r\n",
    "from datetime import datetime, timedelta"
   ],
   "outputs": [],
   "metadata": {}
  },
  {
   "cell_type": "code",
   "execution_count": 2,
   "source": [
    "root = '../../resources'"
   ],
   "outputs": [],
   "metadata": {}
  },
  {
   "cell_type": "code",
   "execution_count": 78,
   "source": [
    "def clean_cd(data):\r\n",
    "  data.sort_values(['number', 'time'], inplace=True)\r\n",
    "#   data = data.assign(usage=lambda x: (x.total-x.available)/x.total)\r\n",
    "  nd = pd.DataFrame(data.number.value_counts())\r\n",
    "  nd = nd[nd.number<=288]\r\n",
    "  data = data[data.number.isin(nd.index)]\r\n",
    "  data.time = pd.to_datetime(data.time)\r\n",
    "  data.time = data.time.dt.hour\r\n",
    "  data = data.groupby(['number', 'time']).mean()\r\n",
    "  return data.reset_index()"
   ],
   "outputs": [],
   "metadata": {}
  },
  {
   "cell_type": "code",
   "execution_count": 87,
   "source": [
    "jeff = pd.read_csv(f'{root}/2020/2020-01-01.csv')\r\n",
    "jeff = clean_cd(jeff)\r\n",
    "jeff"
   ],
   "outputs": [
    {
     "output_type": "stream",
     "name": "stderr",
     "text": [
      "D:\\Programs\\Anaconda\\envs\\virtualenv\\lib\\site-packages\\pandas\\core\\generic.py:5507: SettingWithCopyWarning: \n",
      "A value is trying to be set on a copy of a slice from a DataFrame.\n",
      "Try using .loc[row_indexer,col_indexer] = value instead\n",
      "\n",
      "See the caveats in the documentation: https://pandas.pydata.org/pandas-docs/stable/user_guide/indexing.html#returning-a-view-versus-a-copy\n",
      "  self[name] = value\n"
     ]
    },
    {
     "output_type": "execute_result",
     "data": {
      "text/html": [
       "<div>\n",
       "<style scoped>\n",
       "    .dataframe tbody tr th:only-of-type {\n",
       "        vertical-align: middle;\n",
       "    }\n",
       "\n",
       "    .dataframe tbody tr th {\n",
       "        vertical-align: top;\n",
       "    }\n",
       "\n",
       "    .dataframe thead th {\n",
       "        text-align: right;\n",
       "    }\n",
       "</style>\n",
       "<table border=\"1\" class=\"dataframe\">\n",
       "  <thead>\n",
       "    <tr style=\"text-align: right;\">\n",
       "      <th></th>\n",
       "      <th>number</th>\n",
       "      <th>time</th>\n",
       "      <th>total</th>\n",
       "      <th>available</th>\n",
       "    </tr>\n",
       "  </thead>\n",
       "  <tbody>\n",
       "    <tr>\n",
       "      <th>0</th>\n",
       "      <td>A10</td>\n",
       "      <td>0</td>\n",
       "      <td>62.0</td>\n",
       "      <td>27.166667</td>\n",
       "    </tr>\n",
       "    <tr>\n",
       "      <th>1</th>\n",
       "      <td>A10</td>\n",
       "      <td>1</td>\n",
       "      <td>62.0</td>\n",
       "      <td>22.833333</td>\n",
       "    </tr>\n",
       "    <tr>\n",
       "      <th>2</th>\n",
       "      <td>A10</td>\n",
       "      <td>2</td>\n",
       "      <td>62.0</td>\n",
       "      <td>17.583333</td>\n",
       "    </tr>\n",
       "    <tr>\n",
       "      <th>3</th>\n",
       "      <td>A10</td>\n",
       "      <td>3</td>\n",
       "      <td>62.0</td>\n",
       "      <td>14.833333</td>\n",
       "    </tr>\n",
       "    <tr>\n",
       "      <th>4</th>\n",
       "      <td>A10</td>\n",
       "      <td>4</td>\n",
       "      <td>62.0</td>\n",
       "      <td>10.083333</td>\n",
       "    </tr>\n",
       "    <tr>\n",
       "      <th>...</th>\n",
       "      <td>...</td>\n",
       "      <td>...</td>\n",
       "      <td>...</td>\n",
       "      <td>...</td>\n",
       "    </tr>\n",
       "    <tr>\n",
       "      <th>40603</th>\n",
       "      <td>YHS</td>\n",
       "      <td>19</td>\n",
       "      <td>60.0</td>\n",
       "      <td>31.333333</td>\n",
       "    </tr>\n",
       "    <tr>\n",
       "      <th>40604</th>\n",
       "      <td>YHS</td>\n",
       "      <td>20</td>\n",
       "      <td>60.0</td>\n",
       "      <td>32.666667</td>\n",
       "    </tr>\n",
       "    <tr>\n",
       "      <th>40605</th>\n",
       "      <td>YHS</td>\n",
       "      <td>21</td>\n",
       "      <td>60.0</td>\n",
       "      <td>32.416667</td>\n",
       "    </tr>\n",
       "    <tr>\n",
       "      <th>40606</th>\n",
       "      <td>YHS</td>\n",
       "      <td>22</td>\n",
       "      <td>60.0</td>\n",
       "      <td>28.833333</td>\n",
       "    </tr>\n",
       "    <tr>\n",
       "      <th>40607</th>\n",
       "      <td>YHS</td>\n",
       "      <td>23</td>\n",
       "      <td>60.0</td>\n",
       "      <td>25.750000</td>\n",
       "    </tr>\n",
       "  </tbody>\n",
       "</table>\n",
       "<p>40608 rows × 4 columns</p>\n",
       "</div>"
      ],
      "text/plain": [
       "      number  time  total  available\n",
       "0        A10     0   62.0  27.166667\n",
       "1        A10     1   62.0  22.833333\n",
       "2        A10     2   62.0  17.583333\n",
       "3        A10     3   62.0  14.833333\n",
       "4        A10     4   62.0  10.083333\n",
       "...      ...   ...    ...        ...\n",
       "40603    YHS    19   60.0  31.333333\n",
       "40604    YHS    20   60.0  32.666667\n",
       "40605    YHS    21   60.0  32.416667\n",
       "40606    YHS    22   60.0  28.833333\n",
       "40607    YHS    23   60.0  25.750000\n",
       "\n",
       "[40608 rows x 4 columns]"
      ]
     },
     "metadata": {},
     "execution_count": 87
    }
   ],
   "metadata": {}
  },
  {
   "cell_type": "code",
   "execution_count": 84,
   "source": [
    "def mean_year(year):\r\n",
    "    td = timedelta(days=1)\r\n",
    "    dt = datetime.strptime(f'{year}-01-01', '%Y-%m-%d')\r\n",
    "    dend = datetime.strptime(f'{year}-12-31', '%Y-%m-%d')\r\n",
    "    frick = pd.DataFrame()\r\n",
    "    while dt <= dend:\r\n",
    "        bruh = dt.strftime('%Y-%m-%d')\r\n",
    "        name = f'{bruh}.csv'\r\n",
    "        jeff = pd.read_csv(f'{root}/{year}/{name}')\r\n",
    "        if frick.empty:\r\n",
    "            frick = clean_cd(jeff)\r\n",
    "        else:\r\n",
    "            jeff = clean_cd(jeff)\r\n",
    "            frick.total += jeff.total\r\n",
    "            frick.available += jeff.available\r\n",
    "        dt += td\r\n",
    "    frick.total /= 365\r\n",
    "    frick.available /=365\r\n",
    "    frick.to_csv(f'{root}/meanyear/{year}.csv', index=False)"
   ],
   "outputs": [],
   "metadata": {}
  },
  {
   "cell_type": "code",
   "execution_count": null,
   "source": [
    "for i in ['2020', '2019', '2018']:\r\n",
    "    mean_year(i)"
   ],
   "outputs": [],
   "metadata": {}
  }
 ],
 "metadata": {
  "orig_nbformat": 4,
  "language_info": {
   "name": "python",
   "version": "3.8.11",
   "mimetype": "text/x-python",
   "codemirror_mode": {
    "name": "ipython",
    "version": 3
   },
   "pygments_lexer": "ipython3",
   "nbconvert_exporter": "python",
   "file_extension": ".py"
  },
  "kernelspec": {
   "name": "python3",
   "display_name": "Python 3.8.11 64-bit"
  },
  "interpreter": {
   "hash": "6a770c756bf6cd846983e30214af7232e69d9ec9145ab5f35d9e514839c0511b"
  }
 },
 "nbformat": 4,
 "nbformat_minor": 2
}