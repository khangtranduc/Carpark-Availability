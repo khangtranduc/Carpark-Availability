{
 "cells": [
  {
   "cell_type": "code",
   "execution_count": 1,
   "source": [
    "from bs4 import BeautifulSoup"
   ],
   "outputs": [],
   "metadata": {}
  },
  {
   "cell_type": "code",
   "execution_count": 2,
   "source": [
    "html_doc = '<center><table><tr><th colspan=\\'2\\' align=\\'center\\'><em>Attributes</em></th></tr><tr bgcolor=\"#E3E3F3\"> <th>SUBZONE_NO</th> <td>1</td> </tr><tr bgcolor=\"\"> <th>SUBZONE_N</th> <td>MARINA EAST</td> </tr><tr bgcolor=\"#E3E3F3\"> <th>SUBZONE_C</th> <td>MESZ01</td> </tr><tr bgcolor=\"\"> <th>CA_IND</th> <td>Y</td> </tr><tr bgcolor=\"#E3E3F3\"> <th>PLN_AREA_N</th> <td>MARINA EAST</td> </tr><tr bgcolor=\"\"> <th>PLN_AREA_C</th> <td>ME</td> </tr><tr bgcolor=\"#E3E3F3\"> <th>REGION_N</th> <td>CENTRAL REGION</td> </tr><tr bgcolor=\"\"> <th>REGION_C</th> <td>CR</td> </tr><tr bgcolor=\"#E3E3F3\"> <th>INC_CRC</th> <td>4FB7E5B1B9455DE0</td> </tr><tr bgcolor=\"\"> <th>FMEL_UPD_D</th> <td>20191223152313</td> </tr></table></center>'"
   ],
   "outputs": [],
   "metadata": {}
  },
  {
   "cell_type": "code",
   "execution_count": 5,
   "source": [
    "soup = BeautifulSoup(html_doc, 'html.parser')\r\n",
    "print(soup.prettify())"
   ],
   "outputs": [
    {
     "output_type": "stream",
     "name": "stdout",
     "text": [
      "<center>\n",
      " <table>\n",
      "  <tr>\n",
      "   <th align=\"center\" colspan=\"2\">\n",
      "    <em>\n",
      "     Attributes\n",
      "    </em>\n",
      "   </th>\n",
      "  </tr>\n",
      "  <tr bgcolor=\"#E3E3F3\">\n",
      "   <th>\n",
      "    SUBZONE_NO\n",
      "   </th>\n",
      "   <td>\n",
      "    1\n",
      "   </td>\n",
      "  </tr>\n",
      "  <tr bgcolor=\"\">\n",
      "   <th>\n",
      "    SUBZONE_N\n",
      "   </th>\n",
      "   <td>\n",
      "    MARINA EAST\n",
      "   </td>\n",
      "  </tr>\n",
      "  <tr bgcolor=\"#E3E3F3\">\n",
      "   <th>\n",
      "    SUBZONE_C\n",
      "   </th>\n",
      "   <td>\n",
      "    MESZ01\n",
      "   </td>\n",
      "  </tr>\n",
      "  <tr bgcolor=\"\">\n",
      "   <th>\n",
      "    CA_IND\n",
      "   </th>\n",
      "   <td>\n",
      "    Y\n",
      "   </td>\n",
      "  </tr>\n",
      "  <tr bgcolor=\"#E3E3F3\">\n",
      "   <th>\n",
      "    PLN_AREA_N\n",
      "   </th>\n",
      "   <td>\n",
      "    MARINA EAST\n",
      "   </td>\n",
      "  </tr>\n",
      "  <tr bgcolor=\"\">\n",
      "   <th>\n",
      "    PLN_AREA_C\n",
      "   </th>\n",
      "   <td>\n",
      "    ME\n",
      "   </td>\n",
      "  </tr>\n",
      "  <tr bgcolor=\"#E3E3F3\">\n",
      "   <th>\n",
      "    REGION_N\n",
      "   </th>\n",
      "   <td>\n",
      "    CENTRAL REGION\n",
      "   </td>\n",
      "  </tr>\n",
      "  <tr bgcolor=\"\">\n",
      "   <th>\n",
      "    REGION_C\n",
      "   </th>\n",
      "   <td>\n",
      "    CR\n",
      "   </td>\n",
      "  </tr>\n",
      "  <tr bgcolor=\"#E3E3F3\">\n",
      "   <th>\n",
      "    INC_CRC\n",
      "   </th>\n",
      "   <td>\n",
      "    4FB7E5B1B9455DE0\n",
      "   </td>\n",
      "  </tr>\n",
      "  <tr bgcolor=\"\">\n",
      "   <th>\n",
      "    FMEL_UPD_D\n",
      "   </th>\n",
      "   <td>\n",
      "    20191223152313\n",
      "   </td>\n",
      "  </tr>\n",
      " </table>\n",
      "</center>\n"
     ]
    }
   ],
   "metadata": {}
  }
 ],
 "metadata": {
  "orig_nbformat": 4,
  "language_info": {
   "name": "python",
   "version": "3.8.11",
   "mimetype": "text/x-python",
   "codemirror_mode": {
    "name": "ipython",
    "version": 3
   },
   "pygments_lexer": "ipython3",
   "nbconvert_exporter": "python",
   "file_extension": ".py"
  },
  "kernelspec": {
   "name": "python3",
   "display_name": "Python 3.8.11 64-bit ('virtualenv': conda)"
  },
  "interpreter": {
   "hash": "6a770c756bf6cd846983e30214af7232e69d9ec9145ab5f35d9e514839c0511b"
  }
 },
 "nbformat": 4,
 "nbformat_minor": 2
}