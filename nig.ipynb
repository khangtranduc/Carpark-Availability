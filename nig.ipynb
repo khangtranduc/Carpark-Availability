{
 "cells": [
  {
   "cell_type": "code",
   "execution_count": null,
   "source": [
    "import pandas as pd\r\n",
    "import geopandas as gp\r\n",
    "gp.io.file.fiona.drvsupport.supported_drivers['KML'] = 'rw'\r\n",
    "import numpy as np\r\n",
    "%matplotlib inline\r\n",
    "import matplotlib.pyplot as plt\r\n",
    "import seaborn as sns"
   ],
   "outputs": [],
   "metadata": {}
  },
  {
   "cell_type": "code",
   "execution_count": 3,
   "source": [
    "root = '../resources'"
   ],
   "outputs": [],
   "metadata": {}
  },
  {
   "cell_type": "code",
   "execution_count": 4,
   "source": [
    "df = pd.read_csv(f'{root}/2021/2021-01-01.csv')\r\n",
    "hdb = pd.read_csv(f'{root}/hdb-carpark-information.csv')"
   ],
   "outputs": [],
   "metadata": {}
  },
  {
   "cell_type": "code",
   "execution_count": null,
   "source": [
    "gdf = gp.read_file(f'{root}/2019-subzone-boundary.kml', driver='KML')"
   ],
   "outputs": [],
   "metadata": {}
  },
  {
   "cell_type": "code",
   "execution_count": 4,
   "source": [
    "def sample_data(df, c_name, size):\r\n",
    "    df1 = df[df.number.str.match(c_name)]\r\n",
    "    df1 = df1.assign(usage=lambda x: (x.total - x.available)/x.total)\r\n",
    "    df1 = df1.assign(time=lambda x: x.time.str.slice(start=11))\r\n",
    "    return df1.iloc[np.round(np.linspace(0, len(df1), num=size, endpoint=False),decimals=0)]"
   ],
   "outputs": [],
   "metadata": {}
  },
  {
   "cell_type": "code",
   "execution_count": 5,
   "source": [
    "df1 = sample_data(df, 'HE12', 150)\r\n",
    "df2 = sample_data(df, 'BJAL', 150)\r\n",
    "df3 = sample_data(df, 'Y82M',  150)\r\n",
    "df4 = sample_data(df, 'HG1E', 150)"
   ],
   "outputs": [],
   "metadata": {}
  },
  {
   "cell_type": "code",
   "execution_count": null,
   "source": [
    "fig = plt.figure(figsize=(30,5))\r\n",
    "ax = plt.axes(plt.margins(0, 0.5))\r\n",
    "ax.tick_params(axis='x', rotation=70)\r\n",
    "\r\n",
    "ax.plot(df1['time'], df1['usage'], '-ok')\r\n",
    "ax.plot(df2['time'], df2['usage'], '-ob')\r\n",
    "# ax.plot(df3['time'], df3['usage'], '-.')\r\n",
    "# ax.plot(df4['time'], df4['usage'], ':')"
   ],
   "outputs": [],
   "metadata": {}
  }
 ],
 "metadata": {
  "orig_nbformat": 4,
  "language_info": {
   "name": "python",
   "version": "3.8.11",
   "mimetype": "text/x-python",
   "codemirror_mode": {
    "name": "ipython",
    "version": 3
   },
   "pygments_lexer": "ipython3",
   "nbconvert_exporter": "python",
   "file_extension": ".py"
  },
  "kernelspec": {
   "name": "python3",
   "display_name": "Python 3.8.11 64-bit ('virtualenv': conda)"
  },
  "interpreter": {
   "hash": "6a770c756bf6cd846983e30214af7232e69d9ec9145ab5f35d9e514839c0511b"
  }
 },
 "nbformat": 4,
 "nbformat_minor": 2
}